{
 "cells": [
  {
   "cell_type": "markdown",
   "id": "e9ef62be",
   "metadata": {},
   "source": [
    "### Import Dependencies"
   ]
  },
  {
   "cell_type": "code",
   "execution_count": 1,
   "id": "fa8c07c5",
   "metadata": {},
   "outputs": [],
   "source": [
    "import numpy as np\n",
    "import pandas as pd\n",
    "import geopandas as gpd\n",
    "import libpysal as ps \n",
    "from tqdm import tqdm\n",
    "from mgwr.gwr import GWR, MGWR\n",
    "from mgwr.sel_bw import Sel_BW\n",
    "import matplotlib as mpl\n",
    "import matplotlib.pyplot as plt\n",
    "from svcviz.viz_gwr import viz_gwr, viz_gw, compare_conf, compare_two_surf, threePanel\n",
    "from svcviz.utils import shift_colormap, truncate_colormap\n",
    "import warnings\n",
    "warnings.filterwarnings('ignore')"
   ]
  },
  {
   "cell_type": "markdown",
   "id": "0f42be33",
   "metadata": {},
   "source": [
    "#### Preprocessing"
   ]
  },
  {
   "cell_type": "markdown",
   "id": "8e3c23e1",
   "metadata": {},
   "source": [
    "- Load the datasets into pandas and geopandas dataframes"
   ]
  },
  {
   "cell_type": "code",
   "execution_count": 2,
   "id": "57efc165",
   "metadata": {},
   "outputs": [],
   "source": [
    "df = pd.read_csv(\"data/countypres_2000-2020.csv\")\n",
    "df2 = pd.read_csv(\"data/voting_2020.csv\")[[\"county_id\",\"pct_black\", \"total_pop\", \n",
    "                                                \"pct_hisp\", \"median_income\",\n",
    "                                               \"pct_65_over\", \"pct_age_18_29\", \n",
    "                                                \"pct_fb\", \"sex_ratio\", \"ln_pop_den\",\n",
    "                                               \"pct_bach\", \"pct_uninsured\", \"median_income\"]]\n",
    "\n",
    "dfgp  = pd.read_csv(\"data/ggp-us-dfii.csv\").drop('delete', axis=1)\n",
    "\n",
    "df3 = dfgp[['id', 'se0', 'b0', 'Intercept','sepct_black',\n",
    "       'bpct_black', 'sepct_hisp', 'bpct_hisp', 'sepct_65_over', 'bpct_65_over', 'sepct_age_18_29',\n",
    "       'bpct_age_18_29', 'sepct_fb', 'bpct_fb', 'sepct_uninsured',\n",
    "       'bpct_uninsured', 'sepct_bach', 'bpct_bach', 'seln_pop_den',\n",
    "       'bln_pop_den']]"
   ]
  },
  {
   "cell_type": "markdown",
   "id": "787e935f",
   "metadata": {},
   "source": [
    "- Get 2020 U.S election data + democrat party and exclude D.C, Hawaii, and Alaska\n",
    "- create a geometry attribute from GeoJSON file \n",
    "- Set the CRS\n",
    "- visualize the counties in the U.S"
   ]
  },
  {
   "cell_type": "code",
   "execution_count": 3,
   "id": "ebe6f5f4",
   "metadata": {},
   "outputs": [],
   "source": [
    "df = df[(df.year==2020) & (df.party=='DEMOCRAT') & (df.state!='DISTRICT OF COLUMBIA')] "
   ]
  },
  {
   "cell_type": "code",
   "execution_count": 4,
   "id": "fe8b4c47",
   "metadata": {},
   "outputs": [],
   "source": [
    "df = df[[\"state\", \"county_name\", \"county_fips\",\"party\", \"totalvotes\", \"mode\"]]"
   ]
  },
  {
   "cell_type": "code",
   "execution_count": 5,
   "id": "6b306615",
   "metadata": {},
   "outputs": [
    {
     "data": {
      "text/html": [
       "<div>\n",
       "<style scoped>\n",
       "    .dataframe tbody tr th:only-of-type {\n",
       "        vertical-align: middle;\n",
       "    }\n",
       "\n",
       "    .dataframe tbody tr th {\n",
       "        vertical-align: top;\n",
       "    }\n",
       "\n",
       "    .dataframe thead th {\n",
       "        text-align: right;\n",
       "    }\n",
       "</style>\n",
       "<table border=\"1\" class=\"dataframe\">\n",
       "  <thead>\n",
       "    <tr style=\"text-align: right;\">\n",
       "      <th></th>\n",
       "      <th>id</th>\n",
       "      <th>se0</th>\n",
       "      <th>b0</th>\n",
       "      <th>Intercept</th>\n",
       "      <th>sepct_black</th>\n",
       "      <th>bpct_black</th>\n",
       "      <th>sepct_hisp</th>\n",
       "      <th>bpct_hisp</th>\n",
       "      <th>sepct_65_over</th>\n",
       "      <th>bpct_65_over</th>\n",
       "      <th>sepct_age_18_29</th>\n",
       "      <th>bpct_age_18_29</th>\n",
       "      <th>sepct_fb</th>\n",
       "      <th>bpct_fb</th>\n",
       "      <th>sepct_uninsured</th>\n",
       "      <th>bpct_uninsured</th>\n",
       "      <th>sepct_bach</th>\n",
       "      <th>bpct_bach</th>\n",
       "      <th>seln_pop_den</th>\n",
       "      <th>bln_pop_den</th>\n",
       "    </tr>\n",
       "  </thead>\n",
       "  <tbody>\n",
       "    <tr>\n",
       "      <th>0</th>\n",
       "      <td>1001</td>\n",
       "      <td>0.109232</td>\n",
       "      <td>-0.161032</td>\n",
       "      <td>1</td>\n",
       "      <td>0.036349</td>\n",
       "      <td>0.046597</td>\n",
       "      <td>0.283512</td>\n",
       "      <td>-0.126066</td>\n",
       "      <td>0.070951</td>\n",
       "      <td>0.043623</td>\n",
       "      <td>0.052382</td>\n",
       "      <td>-0.056577</td>\n",
       "      <td>0.155654</td>\n",
       "      <td>0.188183</td>\n",
       "      <td>0.026215</td>\n",
       "      <td>0.031122</td>\n",
       "      <td>0.064936</td>\n",
       "      <td>0.099549</td>\n",
       "      <td>0.097896</td>\n",
       "      <td>0.278338</td>\n",
       "    </tr>\n",
       "    <tr>\n",
       "      <th>1</th>\n",
       "      <td>1003</td>\n",
       "      <td>0.136123</td>\n",
       "      <td>-0.102484</td>\n",
       "      <td>1</td>\n",
       "      <td>0.053384</td>\n",
       "      <td>0.012584</td>\n",
       "      <td>0.344177</td>\n",
       "      <td>-0.064931</td>\n",
       "      <td>0.088085</td>\n",
       "      <td>0.087716</td>\n",
       "      <td>0.080351</td>\n",
       "      <td>-0.025321</td>\n",
       "      <td>0.201540</td>\n",
       "      <td>0.212545</td>\n",
       "      <td>0.030258</td>\n",
       "      <td>0.040352</td>\n",
       "      <td>0.083381</td>\n",
       "      <td>0.062685</td>\n",
       "      <td>0.113054</td>\n",
       "      <td>0.310424</td>\n",
       "    </tr>\n",
       "  </tbody>\n",
       "</table>\n",
       "</div>"
      ],
      "text/plain": [
       "     id       se0        b0  Intercept  sepct_black  bpct_black  sepct_hisp  \\\n",
       "0  1001  0.109232 -0.161032          1     0.036349    0.046597    0.283512   \n",
       "1  1003  0.136123 -0.102484          1     0.053384    0.012584    0.344177   \n",
       "\n",
       "   bpct_hisp  sepct_65_over  bpct_65_over  sepct_age_18_29  bpct_age_18_29  \\\n",
       "0  -0.126066       0.070951      0.043623         0.052382       -0.056577   \n",
       "1  -0.064931       0.088085      0.087716         0.080351       -0.025321   \n",
       "\n",
       "   sepct_fb   bpct_fb  sepct_uninsured  bpct_uninsured  sepct_bach  bpct_bach  \\\n",
       "0  0.155654  0.188183         0.026215        0.031122    0.064936   0.099549   \n",
       "1  0.201540  0.212545         0.030258        0.040352    0.083381   0.062685   \n",
       "\n",
       "   seln_pop_den  bln_pop_den  \n",
       "0      0.097896     0.278338  \n",
       "1      0.113054     0.310424  "
      ]
     },
     "execution_count": 5,
     "metadata": {},
     "output_type": "execute_result"
    }
   ],
   "source": [
    "df3.head(2)"
   ]
  },
  {
   "cell_type": "code",
   "execution_count": 6,
   "id": "f6253d06",
   "metadata": {},
   "outputs": [],
   "source": [
    "newdf = df.merge(df2, left_on='county_fips', right_on='county_id', how='right')"
   ]
  },
  {
   "cell_type": "code",
   "execution_count": 7,
   "id": "8e5c1387",
   "metadata": {},
   "outputs": [],
   "source": [
    "newdf = newdf[(newdf['mode']=='TOTAL') | (newdf['mode']=='ELECTION DAY')]"
   ]
  },
  {
   "cell_type": "code",
   "execution_count": 8,
   "id": "dca2cbda",
   "metadata": {},
   "outputs": [],
   "source": [
    "counties = gpd.read_file('https://cdn.jsdelivr.net/npm/us-atlas@3/counties-10m.json')\\\n",
    "                                                                            .sort_values(by='id').reset_index(drop=True)\n",
    "\n",
    "empty = counties['geometry'].is_empty\n",
    "counties_non_empty = counties[~empty].copy()\n",
    "\n",
    "counties_non_empty['lon'] = counties_non_empty['geometry'].centroid.x\n",
    "counties_non_empty['lat'] = counties_non_empty['geometry'].centroid.y\n",
    "counties_non_empty['id'] = counties_non_empty['id'].astype('int')"
   ]
  },
  {
   "cell_type": "code",
   "execution_count": 9,
   "id": "828a7a08",
   "metadata": {},
   "outputs": [],
   "source": [
    "data = counties_non_empty.merge(newdf, left_on='id', right_on='county_fips')"
   ]
  },
  {
   "cell_type": "code",
   "execution_count": 10,
   "id": "41ddbdee",
   "metadata": {},
   "outputs": [],
   "source": [
    "data = data[data.state!='HAWAII']"
   ]
  },
  {
   "cell_type": "code",
   "execution_count": 11,
   "id": "25601147",
   "metadata": {},
   "outputs": [],
   "source": [
    "data.set_crs(epsg=4269, allow_override=True, inplace=True)\n",
    "data = data.to_crs(epsg=4269)"
   ]
  },
  {
   "cell_type": "code",
   "execution_count": 12,
   "id": "cac43337",
   "metadata": {},
   "outputs": [
    {
     "data": {
      "image/png": "[encoded data removed]",
      "text/plain": [
       "<Figure size 800x1000 with 1 Axes>"
      ]
     },
     "metadata": {},
     "output_type": "display_data"
    }
   ],
   "source": [
    "data.boundary.plot(figsize=(8,10), linewidth=0.3);"
   ]
  },
  {
   "cell_type": "code",
   "execution_count": 13,
   "id": "d51368d9",
   "metadata": {},
   "outputs": [],
   "source": [
    "g_y = data['totalvotes'].values.reshape((-1,1))\n",
    "g_X = data[[\n",
    "    'pct_black','pct_hisp','pct_65_over','pct_age_18_29',\n",
    "            'pct_fb', 'pct_uninsured', 'pct_bach', 'ln_pop_den'\n",
    "            ]].values\n",
    "\n",
    "g_y = (g_y - g_y.mean(axis=0)) / g_y.std(axis=0)\n",
    "g_X = (g_X - g_X.mean(axis=0)) / g_X.std(axis=0)\n",
    "\n",
    "u = data[\"lon\"]\n",
    "v = data[\"lat\"]\n",
    "\n",
    "g_coords = list(zip(u,v))"
   ]
  },
  {
   "cell_type": "markdown",
   "id": "21bebc2b-80c9-4d33-968b-e7163e31b316",
   "metadata": {},
   "source": [
    "##### Calibrate a GWR"
   ]
  },
  {
   "cell_type": "code",
   "execution_count": 14,
   "id": "4434ceda",
   "metadata": {},
   "outputs": [
    {
     "name": "stdout",
     "output_type": "stream",
     "text": [
      "Bandwidth is: 143.0\n",
      "=======================\n",
      "Resid SS is: 904.7533722425308\n",
      "=======================\n",
      "ENP is: 451.3961065192949\n",
      "=======================\n",
      "AICc is: 6058.043970785431\n"
     ]
    }
   ],
   "source": [
    "gwr_selector = Sel_BW(g_coords, g_y, g_X)\n",
    "gwr_bw = gwr_selector.search()\n",
    "gwr_results = GWR(g_coords, g_y, g_X, gwr_bw).fit()\n",
    "print('Bandwidth is:', gwr_bw)\n",
    "print('=======================')\n",
    "print('Resid SS is:', gwr_results.resid_ss)\n",
    "print('=======================')\n",
    "print('ENP is:', gwr_results.ENP)\n",
    "print('=======================')\n",
    "print('AICc is:', gwr_results.aicc)\n",
    "\n",
    "# gwr_results.summary()"
   ]
  },
  {
   "cell_type": "markdown",
   "id": "37918e3a-bdcb-4b08-ad1f-593776a6708b",
   "metadata": {},
   "source": [
    "##### MGWR"
   ]
  },
  {
   "cell_type": "code",
   "execution_count": null,
   "id": "9e80d19a-58e1-4f2a-bb64-718361cbcc47",
   "metadata": {},
   "outputs": [
    {
     "data": {
      "application/vnd.jupyter.widget-view+json": {
       "model_id": "259b9e6d652942f4b19d53672c2f900b",
       "version_major": 2,
       "version_minor": 0
      },
      "text/plain": [
       "Backfitting:   0%|          | 0/200 [00:00<?, ?it/s]"
      ]
     },
     "metadata": {},
     "output_type": "display_data"
    }
   ],
   "source": [
    "mgwr_selector = Sel_BW(g_coords, g_y, g_X, multi=True)\n",
    "mgwr_bw = mgwr_selector.search()\n",
    "mgwr_results = MGWR(g_coords, g_y, g_X, mgwr_selector).fit()"
   ]
  },
  {
   "cell_type": "code",
   "execution_count": null,
   "id": "0bd648a6-88c3-4f7f-a5fa-0c4ea0073b0e",
   "metadata": {},
   "outputs": [],
   "source": [
    "mgwr_results.summary()"
   ]
  },
  {
   "cell_type": "markdown",
   "id": "6b9c5746",
   "metadata": {},
   "source": [
    "# Demo"
   ]
  },
  {
   "cell_type": "markdown",
   "id": "06583cc6",
   "metadata": {},
   "source": [
    "### Utility 1 "
   ]
  },
  {
   "cell_type": "markdown",
   "id": "f544cced",
   "metadata": {},
   "source": [
    "- This utillity of the <i> \"svc-viz\"</i>\n",
    "tool takes as input a GWR/MGWR model object and generates coefficient surfaces incorporating best visualization practices "
   ]
  },
  {
   "cell_type": "markdown",
   "id": "d323eb82",
   "metadata": {},
   "source": [
    "- By default, the tool visualizes all coefficients. The user only needs to specify which coefficient surfaces they want to visualize by passing them as arguments. They can also turn the <i>t</i>-values on or off (by default, t-values are set at the 95% confidence interval but can be adjusted).\n"
   ]
  },
  {
   "cell_type": "markdown",
   "id": "6940c9bf",
   "metadata": {},
   "source": [
    "- Other kinds of SVC models or Geographically weighted statistic can also be visualized using the `viz_gw` method as shown in utility 2"
   ]
  },
  {
   "cell_type": "markdown",
   "id": "738f0bba",
   "metadata": {},
   "source": [
    "- Below is an example code with a mgwr model object "
   ]
  },
  {
   "cell_type": "markdown",
   "id": "ba65b5fa",
   "metadata": {},
   "source": [
    "##### User specifying the particular coefficient surface they want to visualize (Figure 3)"
   ]
  },
  {
   "cell_type": "code",
   "execution_count": null,
   "id": "2dc9e89f",
   "metadata": {},
   "outputs": [],
   "source": [
    "col_names = ['pct_black', 'pct_hisp', 'pct_65_over', 'pct_age_18_29', 'pct_fb', \n",
    "    'pct_uninsured', 'pct_bach', 'ln_pop_den']\n",
    "\n",
    "viz_gwr(\n",
    "        col_names, \n",
    "        data['geometry'], \n",
    "        mgwr_results, \n",
    "        use_tvalues=True, \n",
    "        alpha=0.5, \n",
    "        coef_surfaces=['pct_black']\n",
    ")"
   ]
  },
  {
   "cell_type": "markdown",
   "id": "5bfcf144-8f7a-4fe6-947c-9dc0986034cc",
   "metadata": {},
   "source": [
    "##### User decides to see all coefficient surfaces by passing `None` in the `coef_surfaces` argument (Figure 4)"
   ]
  },
  {
   "cell_type": "code",
   "execution_count": null,
   "id": "c0230f86",
   "metadata": {},
   "outputs": [],
   "source": [
    "viz_gwr(\n",
    "        col_names, \n",
    "        data['geometry'], \n",
    "        mgwr_results, \n",
    "        use_tvalues=True, \n",
    "        alpha=0.5, \n",
    "        coef_surfaces=None\n",
    ")"
   ]
  },
  {
   "cell_type": "markdown",
   "id": "ab617162",
   "metadata": {},
   "source": [
    "  "
   ]
  },
  {
   "cell_type": "markdown",
   "id": "53cb844b",
   "metadata": {},
   "source": [
    "  "
   ]
  },
  {
   "cell_type": "markdown",
   "id": "b5c5c30a",
   "metadata": {},
   "source": [
    "## Utility 2\n"
   ]
  },
  {
   "cell_type": "markdown",
   "id": "bc069238",
   "metadata": {},
   "source": [
    "- The svc-viz tool is not only restricted to GWR/MGWR models but can also be extended to any other SVC model or Geographically Weighted statistic using the `viz_gw` method"
   ]
  },
  {
   "cell_type": "markdown",
   "id": "800bf2b0",
   "metadata": {},
   "source": [
    "- It takes in as argument the original dataframe, the dataframe of the model estimates and their standard errors, and the level of statistical significance for the tvalues. By default, it is set to 0.05"
   ]
  },
  {
   "cell_type": "markdown",
   "id": "d30db47a",
   "metadata": {},
   "source": [
    "- Using these arguments it generates visualization of all the model coefficients like in utility 1"
   ]
  },
  {
   "cell_type": "markdown",
   "id": "14b116b5",
   "metadata": {},
   "source": [
    "- Below is an example code for the visualization of a GAM model calibrated with gaussian process splines. The user just needs to pass in to the function the required dataframes"
   ]
  },
  {
   "cell_type": "code",
   "execution_count": null,
   "id": "fa677086",
   "metadata": {},
   "outputs": [],
   "source": [
    "betas = [col for col in df3.columns if col.startswith('b')]\n",
    "std_e = [col for col in df3.columns if col.startswith('se')]\n",
    "\n",
    "viz_gw(\n",
    "        data['geometry'], \n",
    "        df3[betas], \n",
    "        df3[std_e], \n",
    "        alpha=0.05,\n",
    "        use_tvalues=True,\n",
    "        coef_surfaces=None\n",
    ")"
   ]
  },
  {
   "cell_type": "markdown",
   "id": "295213c9",
   "metadata": {},
   "source": [
    "#### Similar to utility 1,  the user specifies what surfaces they want to visualize, following best practices we recommend in the paper"
   ]
  },
  {
   "cell_type": "code",
   "execution_count": null,
   "id": "f60ffd47",
   "metadata": {},
   "outputs": [],
   "source": [
    "viz_gw(\n",
    "        data['geometry'], \n",
    "        df3[betas], \n",
    "        df3[std_e], \n",
    "        alpha=0.05,\n",
    "        use_tvalues=True,\n",
    "        coef_surfaces=['beta_bpct_hisp']\n",
    ")"
   ]
  },
  {
   "cell_type": "markdown",
   "id": "0729fcbd-5e5c-4aa9-995f-0c58a5e9ba47",
   "metadata": {},
   "source": [
    "  "
   ]
  },
  {
   "cell_type": "markdown",
   "id": "0f53c953",
   "metadata": {},
   "source": [
    "## Utility 3"
   ]
  },
  {
   "cell_type": "markdown",
   "id": "0e8a0c70",
   "metadata": {},
   "source": [
    "- The svc-viz tool can also be used to visualize the coefficients of two SVC models to facilitate the analysis of SVC model replicability across the study area"
   ]
  },
  {
   "cell_type": "markdown",
   "id": "73778719",
   "metadata": {},
   "source": [
    "- This method takes as input: the original dataframe, the dataframe of the model estimates and their standard errors, the name of the coefficient that the user wishes to visualize, and the level of statistical significance for the tvalues of both SVC models. By default, it is set to 0.05"
   ]
  },
  {
   "cell_type": "markdown",
   "id": "a5299ee4",
   "metadata": {},
   "source": [
    "- below is an example using a GWR model and a GAM with Gaussian process splines calibrated on the same dataset. "
   ]
  },
  {
   "cell_type": "code",
   "execution_count": null,
   "id": "520d987a",
   "metadata": {},
   "outputs": [],
   "source": [
    "col_names1 = ['pct_black', 'pct_hisp', 'pct_65_over', 'pct_age_18_29', 'pct_fb', \n",
    "    'pct_uninsured', 'pct_bach', 'ln_pop_den']\n",
    "\n",
    "col_names = ['intercept']+col_names1\n",
    "\n",
    "mgwr_est = pd.DataFrame(mgwr_results.params, columns=col_names)\n",
    "mgwr_std = pd.DataFrame(mgwr_results.bse, columns=col_names)\n",
    "\n",
    "\n",
    "betas = [col for col in df3.columns if col.startswith('b')]\n",
    "std_e = [col for col in df3.columns if col.startswith('se')]\n",
    "\n",
    "\n",
    "compare_two_surf(data['geometry'], \n",
    "                 mgwr_est, \n",
    "                 mgwr_std, \n",
    "                 df3[betas],\n",
    "                 df3[std_e], \n",
    "                 'beta_pct_bach', \n",
    "                 'beta_bpct_bach',\n",
    "                  use_tvalues=False\n",
    ")"
   ]
  },
  {
   "cell_type": "code",
   "execution_count": null,
   "id": "30a97733-4aae-4106-8b1e-c319e0c065d9",
   "metadata": {},
   "outputs": [],
   "source": [
    "compare_two_surf(data['geometry'], \n",
    "                 mgwr_est, \n",
    "                 mgwr_std, \n",
    "                 df3[betas],\n",
    "                 df3[std_e], \n",
    "                 'beta_pct_bach', \n",
    "                 'beta_bpct_bach',\n",
    "                  use_tvalues=True\n",
    ")"
   ]
  },
  {
   "cell_type": "markdown",
   "id": "4f3cb535",
   "metadata": {},
   "source": [
    "<br />"
   ]
  },
  {
   "cell_type": "markdown",
   "id": "af905cf2",
   "metadata": {},
   "source": [
    "## Utility 4"
   ]
  },
  {
   "cell_type": "markdown",
   "id": "eb3108c6-130d-40b0-b9fd-863a8e95d89e",
   "metadata": {},
   "source": [
    "- The tool also introduces a novel three-panel visualization, which is essentially a multiview visualization that displays different yet related information about a single variable. It includes the bandwidth and its confidence intervals, a caterpillar plot visualizing the confidence intervals, and finally, the coefficient surface along with its associated uncertainty.\n"
   ]
  },
  {
   "cell_type": "code",
   "execution_count": null,
   "id": "985b2167-732e-45af-9b7b-07edfe6ad407",
   "metadata": {},
   "outputs": [],
   "source": [
    "fits = []\n",
    "# The tqdm function is called with the iterable that we are looping over, in this case, range(25, len(data))\n",
    "for i in tqdm(range(100, len(data), 100), desc='Fitting models', unit='model'):\n",
    "    fits.append(GWR(g_coords, g_y, g_X, i).fit().aicc)"
   ]
  },
  {
   "cell_type": "code",
   "execution_count": null,
   "id": "6afca44f-4341-4ec8-8b7e-09e698ce5b21",
   "metadata": {
    "scrolled": true
   },
   "outputs": [],
   "source": [
    "threePanel(data, col_names1, gwr_results, \n",
    "         coef_surfaces=['intercept'], gwr_selector=gwr_selector, aicc=fits)"
   ]
  },
  {
   "cell_type": "code",
   "execution_count": null,
   "id": "9c2f5de7-9501-44c1-b26f-08aa6b604d94",
   "metadata": {},
   "outputs": [],
   "source": []
  },
  {
   "cell_type": "markdown",
   "id": "4ec8b486-8deb-4bb0-9649-36cb79120006",
   "metadata": {},
   "source": [
    "## Utility 5"
   ]
  },
  {
   "cell_type": "markdown",
   "id": "4ac4640a",
   "metadata": {},
   "source": [
    "- Another novel visualization introduced in the svc-viz tool is a cartographic view that compares how confidence intervals do or do not overlap between two surfaces. "
   ]
  },
  {
   "cell_type": "markdown",
   "id": "1fc4ae12",
   "metadata": {},
   "source": [
    "- This method takes as input: the original dataframe, the dataframe of the model estimates and their standard errors, the name of the coefficient that the user wishes to visualize, and the level of statistical significance for the tvalues of both SVC models. By default, it is set to 0.05"
   ]
  },
  {
   "cell_type": "markdown",
   "id": "92ccbe91",
   "metadata": {},
   "source": [
    "- Below is an example code that plots a map showing locations where the confidence intervals of two svc models overlap and where they do not. Here we use the GWR model and the GAM calibrated with Gaussian process splines on the same datasets"
   ]
  },
  {
   "cell_type": "code",
   "execution_count": null,
   "id": "1ca0b180",
   "metadata": {},
   "outputs": [],
   "source": [
    "compare_conf(\n",
    "    data['geometry'],\n",
    "    mgwr_est, \n",
    "    mgwr_std, \n",
    "    df3[betas],\n",
    "    df3[std_e],\n",
    "    'pct_bach',\n",
    "    'bpct_bach',\n",
    ")"
   ]
  },
  {
   "cell_type": "markdown",
   "id": "c6e5c541-fd50-40f4-be86-2404590bba31",
   "metadata": {},
   "source": []
  },
  {
   "cell_type": "markdown",
   "id": "1d9bf0f8-9359-485a-ac87-afe60eb04132",
   "metadata": {},
   "source": [
    "### Reproducible code for Figure 1"
   ]
  },
  {
   "cell_type": "code",
   "execution_count": null,
   "id": "1f80653e-7a06-40db-9815-91510735b447",
   "metadata": {},
   "outputs": [],
   "source": [
    "# Load Georgia dataset and generate plot of Georgia counties (figure 1)\n",
    "georgia_data = pd.read_csv(ps.examples.get_path('GData_utm.csv'))\n",
    "georgia_shp = gpd.read_file(ps.examples.get_path('G_utm.shp'))"
   ]
  },
  {
   "cell_type": "code",
   "execution_count": null,
   "id": "5c5b0f91-c610-4084-863c-c65f927bebf9",
   "metadata": {},
   "outputs": [],
   "source": [
    "#Prepare Georgia dataset inputs\n",
    "g_y = georgia_data['PctBach'].values.reshape((-1,1))\n",
    "g_X = georgia_data[['PctFB', 'PctBlack', 'PctRural']].values\n",
    "u = georgia_data['X']\n",
    "v = georgia_data['Y']\n",
    "g_coords = list(zip(u,v))\n",
    "\n",
    "g_X = (g_X - g_X.mean(axis=0)) / g_X.std(axis=0)\n",
    "\n",
    "g_y = g_y.reshape((-1,1))\n",
    "\n",
    "g_y = (g_y - g_y.mean(axis=0)) / g_y.std(axis=0)"
   ]
  },
  {
   "cell_type": "code",
   "execution_count": null,
   "id": "142d501e-0f85-467d-8e16-6fb78827bea4",
   "metadata": {},
   "outputs": [],
   "source": [
    "#Calibrate MGWR model\n",
    "\n",
    "mgwr_selector = Sel_BW(g_coords, g_y, g_X, multi=True)\n",
    "mgwr_bw = mgwr_selector.search(multi_bw_min=[2])\n",
    "print(mgwr_bw)\n",
    "mgwr_results = MGWR(g_coords, g_y, g_X, mgwr_selector).fit()"
   ]
  },
  {
   "cell_type": "code",
   "execution_count": null,
   "id": "d1237045-dee1-4703-8298-445a07f0a979",
   "metadata": {},
   "outputs": [],
   "source": [
    "#Prepare MGWR results for mapping\n",
    "\n",
    "#Add MGWR parameters to GeoDataframe\n",
    "georgia_shp['mgwr_intercept'] = mgwr_results.params[:,0]\n",
    "georgia_shp['mgwr_fb'] = mgwr_results.params[:,1]\n",
    "georgia_shp['mgwr_aa'] = mgwr_results.params[:,2]\n",
    "georgia_shp['mgwr_rural'] = mgwr_results.params[:,3]\n",
    "\n",
    "#Obtain t-vals filtered based on multiple testing correction\n",
    "mgwr_filtered_t = mgwr_results.filter_tvals()"
   ]
  },
  {
   "cell_type": "code",
   "execution_count": null,
   "id": "5bcbb4fe-5f34-47a5-a712-c4f951f74ed7",
   "metadata": {},
   "outputs": [],
   "source": [
    "fig, axes = plt.subplots(nrows=1, ncols=2, figsize=(20, 8))\n",
    "\n",
    "# Left plot: YlGn colormap\n",
    "ax0 = axes[0]\n",
    "ax0.set_title('MGWR Intercept Surface', fontsize=18)\n",
    "\n",
    "cmap1 = plt.cm.YlGn\n",
    "\n",
    "mgwr_min = georgia_shp['mgwr_intercept'].min()\n",
    "mgwr_max = georgia_shp['mgwr_intercept'].max()\n",
    "vmin, vmax = -0.55, 1  # Keep fixed for both maps\n",
    "\n",
    "# Adjust colormap\n",
    "cmap1 = shift_colormap(cmap1, start=0.0, midpoint=1 - vmax/(vmax + abs(vmin)), stop=1.)\n",
    "\n",
    "# Create scalar mappable for colorbar\n",
    "sm1 = plt.cm.ScalarMappable(cmap=cmap1, norm=plt.Normalize(vmin=vmin, vmax=vmax))\n",
    "\n",
    "# Plot MGWR parameters (Left)\n",
    "georgia_shp.plot('mgwr_intercept', cmap=sm1.cmap, ax=ax0, vmin=vmin, vmax=vmax, linewidth=0.4, edgecolor='black', alpha=0.65)\n",
    "\n",
    "ax0.get_xaxis().set_visible(False)\n",
    "ax0.get_yaxis().set_visible(False)\n",
    "\n",
    "# Right plot: Seismic colormap\n",
    "ax1 = axes[1]\n",
    "ax1.set_title('MGWR Intercept Surface', fontsize=18)\n",
    "\n",
    "cmap2 = plt.cm.seismic\n",
    "\n",
    "# Adjust colormap\n",
    "cmap2 = shift_colormap(cmap2, start=0.0, midpoint=1 - vmax/(vmax + abs(vmin)), stop=1.)\n",
    "\n",
    "# Create scalar mappable for colorbar\n",
    "sm2 = plt.cm.ScalarMappable(cmap=cmap2, norm=plt.Normalize(vmin=vmin, vmax=vmax))\n",
    "\n",
    "# Plot MGWR parameters (Right)\n",
    "georgia_shp.plot('mgwr_intercept', cmap=sm2.cmap, ax=ax1, vmin=vmin, vmax=vmax, linewidth=0.4, edgecolor='black', alpha=0.65)\n",
    "\n",
    "# If there are insignificant parameters, mask them in gray\n",
    "if (mgwr_filtered_t[:, 0] == 0).any():\n",
    "    georgia_shp[mgwr_filtered_t[:, 0] == 0].plot(color='lightgrey', ax=ax1, linewidth=0.4, edgecolor='black')\n",
    "\n",
    "ax1.get_xaxis().set_visible(False)\n",
    "ax1.get_yaxis().set_visible(False)\n",
    "\n",
    "# Adjust layout and colorbars\n",
    "fig.tight_layout()\n",
    "fig.subplots_adjust(right=0.9)\n",
    "\n",
    "# Add colorbars for both maps\n",
    "cax1 = fig.add_axes([0.45, 0.14, 0.01, 0.75])  # Colorbar for left panel\n",
    "cbar1 = fig.colorbar(sm1, cax=cax1)\n",
    "cbar1.ax.tick_params(labelsize=15)\n",
    "\n",
    "cax2 = fig.add_axes([0.92, 0.14, 0.01, 0.75])  # Colorbar for right panel\n",
    "cbar2 = fig.colorbar(sm2, cax=cax2)\n",
    "cbar2.ax.tick_params(labelsize=15)\n",
    "\n",
    "plt.show()\n"
   ]
  },
  {
   "cell_type": "code",
   "execution_count": null,
   "id": "b6143727-a58b-4099-b76c-8298c9f16e34",
   "metadata": {},
   "outputs": [],
   "source": []
  },
  {
   "cell_type": "code",
   "execution_count": null,
   "id": "62e73735-bca9-440f-8be0-2fcf1e13bb5c",
   "metadata": {},
   "outputs": [],
   "source": []
  },
  {
   "cell_type": "code",
   "execution_count": null,
   "id": "80b5e0e0-b598-43ef-b1ec-40fdfb008689",
   "metadata": {},
   "outputs": [],
   "source": []
  },
  {
   "cell_type": "code",
   "execution_count": null,
   "id": "c1c72dcf-8e24-442c-86fc-8435120725b8",
   "metadata": {},
   "outputs": [],
   "source": []
  },
  {
   "cell_type": "code",
   "execution_count": null,
   "id": "b9143a17-63c5-4d90-b50f-ad32b93f1ef8",
   "metadata": {},
   "outputs": [],
   "source": []
  },
  {
   "cell_type": "markdown",
   "id": "d940207a",
   "metadata": {},
   "source": [
    "### End Notes"
   ]
  },
  {
   "cell_type": "markdown",
   "id": "2a743367",
   "metadata": {},
   "source": [
    "<br/>"
   ]
  },
  {
   "cell_type": "markdown",
   "id": "6acfc473",
   "metadata": {},
   "source": [
    "--"
   ]
  }
 ],
 "metadata": {
  "kernelspec": {
   "display_name": "Python 3 (ipykernel)",
   "language": "python",
   "name": "python3"
  },
  "language_info": {
   "codemirror_mode": {
    "name": "ipython",
    "version": 3
   },
   "file_extension": ".py",
   "mimetype": "text/x-python",
   "name": "python",
   "nbconvert_exporter": "python",
   "pygments_lexer": "ipython3",
   "version": "3.12.0"
  }
 },
 "nbformat": 4,
 "nbformat_minor": 5
}
