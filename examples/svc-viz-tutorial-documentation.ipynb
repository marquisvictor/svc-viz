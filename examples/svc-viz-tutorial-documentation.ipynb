{
 "cells": [
  {
   "cell_type": "markdown",
   "metadata": {
    "id": "7gUZzqUXf91d"
   },
   "source": [
    "# Analysis\n",
    "\n",
    "Template for Jupyter notebooks running Python."
   ]
  },
  {
   "cell_type": "markdown",
   "metadata": {
    "id": "ynQbJHvcVm55"
   },
   "source": [
    "Version 0.1.0 \\| First Created May 1, 2025 \\| Updated May 03, 2025\n",
    "\n",
    "## Jupyter Notebook\n",
    "\n",
    "This is a Jupyter Notebook document. For more details on using a Jupyter Notebook see <https://docs.jupyter.org/en/latest/>.\n",
    "\n"
   ]
  },
  {
   "cell_type": "markdown",
   "metadata": {},
   "source": [
    "# Reproducible visualization strategies for spatially varying coefficient (SVC) models: Incorporating uncertainty and assessing replicability\n",
    "\n",
    "### Authors\n",
    "\n",
    "- Victor Irekponor\\*, vireks@terpmail.umd.edu, @marquisvictor, ORCID link, University of Maryland, College Park, MD, U.S.A\n",
    "- Taylor Oshan, toshan@umd.edu, @TaylorOshan, 0000-0002-0537-2941, University of Maryland, College Park, MD, U.S.A\n",
    "\n",
    "\\* Corresponding author and creator\n",
    "\n"
   ]
  },
  {
   "cell_type": "markdown",
   "metadata": {},
   "source": [
    "### Abstract\n",
    "\n",
    "Spatially varying coefficient (SVC) models are often regarded as “big models” due to the extensive volume of outputs that they produce, making it challenging to identify spatial trends across the study area. Maps are therefore commonly used to interpret SVC models, though best practices for visualization are often overlooked and uncertainty ignored, leading to misinterpretation, inconsistencies, and making pattern extraction and comparison challenging. Furthermore, the role of reproducibility and replicability (R&R) in SVC models has received limited attention in the literature. Addressing these gaps requires a structured approach that enhances interpretability, facilitates model comparison, and effectively incorporates model uncertainty when analyzing SVC model output. This study introduces svc-viz, an open-source Python tool that codifies best practices into a standardized framework for interpreting and communicating SVC model results with minimal coding effort. By integrating established visualization principles, svc-viz improves clarity and reduces misinterpretation risks. Additionally, it introduces strategies for visualizing model uncertainty and assessing replicability across datasets, methods, and model inputs. The utility of svc-viz is demonstrated using a 2020 U.S. presidential election dataset. By formalizing visualization strategies, this study advances reproducibility, replicability, and uncertainty consideration in multiscale local modeling, providing researchers with a robust framework for analyzing and communicating spatial relationships.\n",
    "\n"
   ]
  },
  {
   "cell_type": "markdown",
   "metadata": {},
   "source": [
    "### Study metadata\n",
    "\n",
    "- `Key words`: Multiscale local modeling, Visualization, Uncertainty, Reproducibility and Replicability\n",
    "- `Subject`: Social and Behavioral Sciences: Geography: Geographic Information Sciences\n",
    "- `Date created`: 30-04-2025\n",
    "- `Date modified`: 02-05-2025\n",
    "- `Spatial Coverage`: United States of America (link: [OpenStreetMap USA](https://www.openstreetmap.org/relation/148838)), includes all U.S. counties.\n",
    "- `Spatial Resolution`: County-level administrative units (FIPS-based). Data are aggregated to the county level based on U.S. Census geographic definitions.\n",
    "- `Spatial Reference System`: WGS 84 - EPSG:4326\n",
    "- `Funding Name`: National Science Foundation (NSF) (Methodology, Measuremt & Stats, Human-Envi & Geographical Scis)\n",
    "- `Funding Title`: Advancing Methods for Spatial Analysis in Local Modeling\n",
    "- `Award info URI`: [web address for award information](https://www.nsf.gov/awardsearch/showAward?AWD_ID=2117455&HistoricalAwards=false)\n",
    "- `Award number`: 2117455\n",
    "\n"
   ]
  },
  {
   "cell_type": "markdown",
   "metadata": {
    "id": "lpUbJuwsgQJu"
   },
   "source": [
    "## Computational environment\n",
    "\n",
    "Maintaining a reproducible computational environment requires some conscious choices in package management.\n",
    "\n",
    "Please refer to `00-Python-environment-setup.ipynb` for details.\n",
    "\n"
   ]
  },
  {
   "cell_type": "markdown",
   "metadata": {
    "id": "dEwHjXmlVXZI"
   },
   "source": [
    "### Data and variables\n",
    "\n",
    "Describe the **data sources** and **variables** to be used.\n",
    "Data sources may include plans for observing and recording **primary data** or descriptions of **secondary data**.\n",
    "For secondary data sources with numerous variables, the analysis plan authors may focus on documenting only the variables intended for use in the study.\n",
    "\n",
    "Primary data sources for the study are to include the 2020 U.S presidential election dataset obtained from a public [github repository](https://github.com/tonmcg/US_County_Level_Election_Results_08-20)\n",
    "\n",
    "\n",
    "\n",
    "Each of the next subsections describes one data source.\n",
    "\n"
   ]
  },
  {
   "cell_type": "markdown",
   "metadata": {},
   "source": [
    "#### 2020 U.S presidential Election Data\n",
    "\n",
    "**Standard Metadata**\n",
    "\n",
    "- `Abstract`: County-level results from the 2020 U.S. presidential election, focused on total votes cast for the Democratic Party. The data were compiled and sourced from public-facing media outlets including Fox News, Politico, and the New York Times. This dataset is [made available via GitHub](https://github.com/tonmcg/US_County_Level_Election_Results_08-20\n",
    ") and is not an official government source.\n",
    "- `Spatial Coverage`: United States of America (link: [OpenStreetMap USA](https://www.openstreetmap.org/relation/148838)), includes all U.S. counties.\n",
    "- `Spatial Resolution`: County-level administrative units (FIPS-based). Data are aggregated to the county level based on U.S. Census geographic definitions.\n",
    "- `Spatial Reference System`: Likely NAD83 (EPSG:4269) or WGS84 (EPSG:4326); exact CRS not specified in source.\n",
    "- `Temporal Coverage`: November 3, 2020\n",
    "- `Temporal Resolution`: Single-day observation (election day)\n",
    "- `Lineage`: \n",
    "  - Compiled by Tony McGovern from public sources including Fox News, Politico, and the New York Times.\n",
    "  - Sampling includes all U.S. counties with available presidential vote counts.\n",
    "  - No sampling design; full population dataset of available county-level election results.\n",
    "  - No personally identifiable information; no de-identification required.\n",
    "  - No experimental manipulation; data are observational.\n",
    "- `Distribution`: Available to the public via GitHub: [https://github.com/tonmcg/US_County_Level_Election_Results_08-20](https://github.com/tonmcg/US_County_Level_Election_Results_08-20)\n",
    "- `Constraints`: Public use. Attribution recommended but not legally required. No known intellectual property restrictions. Data comes from publicly reported sources.\n",
    "- `Data Quality`: Informal quality assurance; cross-verified from multiple reputable media sources, but not an official or certified government dataset. Users should verify figures against official state election boards if precision is critical.\n",
    "- `Variables`: For each variable, enter the following information. If you have two or more variables per data source, you may want to present this information in table form (shown below)\n",
    "  - `Label`: variable name as used in the data or code\n",
    "  - `Alias`: intuitive natural language name\n",
    "  - `Definition`: Short description or definition of the variable. Include measurement units in description.\n",
    "  - `Type`: data type, e.g. character string, integer, real\n",
    "  - `Accuracy`: e.g. uncertainty of measurements\n",
    "  - `Domain`: Expected range of Maximum and Minimum of numerical data, or codes or categories of nominal data, or reference to a standard codebook\n",
    "  - `Missing Data Value(s)`: Values used to represent missing data and frequency of missing data observations\n",
    "  - `Missing Data Frequency`: Frequency of missing data observations: not yet known for data to be collected\n",
    "\n",
    "**Variables**\n",
    "\n",
    "| Label       | Alias                      | Definition                                                              | Type     | Accuracy          | Domain             | Missing Data Value(s) | Missing Data Frequency |\n",
    "|------------:|----------------------------|-------------------------------------------------------------------------|----------|-------------------|--------------------|------------------------|------------------------|\n",
    "| year        | Year                       | Election year                                                           | Integer  | Exact              | 2020               | None                   | None                   |\n",
    "| state       | State                      | U.S. state abbreviation                                                 | String   | High               | e.g., \"TX\", \"GA\"   | None                   | None                   |\n",
    "| county_name | County Name                | Name of the U.S. county                                                 | String   | High               | e.g., \"Fulton\"     | Some typos possible    | Low                    |\n",
    "| candidate   | Candidate Name             | Name of the presidential candidate                                      | String   | High               | \"BIDEN, JOSEPH R\"  | None                   | None                   |\n",
    "| party       | Political Party            | Political party of candidate                                            | String   | High               | \"DEMOCRAT\"         | None                   | None                   |\n",
    "| total_votes | Total Votes (Democrat)     | Total number of votes received by Democratic candidate per county       | Integer  | County-reported    | 0–>1,000,000+       | 0 or blank             | Low                    |\n",
    "| state_fips  | State FIPS Code            | FIPS code identifying U.S. state                                        | Integer  | High               | 1–56                | None                   | None                   |\n",
    "| county_fips | County FIPS Code           | Unique 5-digit FIPS code identifying county                             | Integer  | High               | 01001–56045         | None                   | None                   |\n"
   ]
  },
  {
   "cell_type": "markdown",
   "metadata": {},
   "source": [
    "#### 2020 American Community Survey (ACS) 5-Year Estimates — County-Level Demographic Data\n",
    "\n",
    "**Standard Metadata**\n",
    "\n",
    "- `Abstract`: This dataset contains county-level demographic, socioeconomic, and health-related indicators from the 2020 American Community Survey (ACS) 5-Year Estimates. It includes variables relevant for political and spatial analysis, such as population composition, education, age structure, income, health insurance coverage, and foreign-born population percentage.\n",
    "- `Spatial Coverage`: United States of America ([OpenStreetMap USA](https://www.openstreetmap.org/relation/148838)), covering all counties and county-equivalent entities.\n",
    "- `Spatial Resolution`: County-level (FIPS-defined administrative units).\n",
    "- `Spatial Reference System`: NAD83 / EPSG:4269 — standard for ACS tabular data using geographic identifiers.\n",
    "- `Temporal Coverage`: January 1, 2016 – December 31, 2020 (representing a 5-year rolling estimate).\n",
    "- `Temporal Resolution`: Aggregated across five years; not reflective of single-year values.\n",
    "- `Lineage`: \n",
    "  - Data sourced from the U.S. Census Bureau, ACS 2020 5-Year Estimates.\n",
    "  - Estimates based on stratified sample surveys and adjusted with weights for national representativeness.\n",
    "  - All variables derived from public-use summary tables (e.g., DP05, S0101, S1901, B03002).\n",
    "  - No personally identifiable information; data are aggregated.\n",
    "- `Distribution`: Publicly available via [https://data.census.gov](https://data.census.gov), [NHGIS](https://www.nhgis.org), or institutional data repositories.\n",
    "- `Constraints`: No known legal restrictions. Public domain. Attribution to U.S. Census Bureau required.\n",
    "- `Data Quality`: Estimates include margins of error (MOEs); caution advised for small counties or subpopulations.\n",
    "- `Variables`: For each variable, enter the following information. If you have two or more variables per data source, you may want to present this information in table form (shown below)\n",
    "  - `Label`: variable name as used in the data or code\n",
    "  - `Alias`: intuitive natural language name\n",
    "  - `Definition`: Short description or definition of the variable. Include measurement units in description.\n",
    "  - `Type`: data type, e.g. character string, integer, real\n",
    "  - `Accuracy`: e.g. uncertainty of measurements\n",
    "  - `Domain`: Expected range of Maximum and Minimum of numerical data, or codes or categories of nominal data, or reference to a standard codebook\n",
    "  - `Missing Data Value(s)`: Values used to represent missing data and frequency of missing data observations\n",
    "  - `Missing Data Frequency`: Frequency of missing data observations: not yet known for data to be collected\n",
    "  \n",
    "**Variables**\n",
    "\n",
    "| Label           | Alias                    | Definition                                                                 | Type    | Accuracy         | Domain             | Missing Data Value(s) | Missing Data Frequency |\n",
    "|----------------|---------------------------|-----------------------------------------------------------------------------|---------|------------------|--------------------|------------------------|------------------------|\n",
    "| county_id      | County FIPS Code          | Unique 5-digit code identifying U.S. counties                              | String  | Exact            | 01001–56045        | None                   | None                   |\n",
    "| pct_black      | % Black Population        | Percent of total population identifying as Black or African American alone | Float   | ± MOE reported   | 0–100              | null / -9999           | Low                    |\n",
    "| pct_hisp       | % Hispanic Population     | Percent of total population identifying as Hispanic or Latino              | Float   | ± MOE reported   | 0–100              | null / -9999           | Low                    |\n",
    "| total_pop      | Total Population          | Estimated total number of residents                                        | Integer | ± MOE reported   | 0–10,000,000+      | null / -9999           | Low                    |\n",
    "| median_income  | Median Household Income   | Median household income in 2020 inflation-adjusted dollars                 | Integer | ± MOE reported   | 0–250,000          | null / -9999           | Low                    |\n",
    "| pct_65_over    | % Aged 65 and Over        | Percent of population aged 65 years and older                              | Float   | ± MOE reported   | 0–100              | null / -9999           | Low                    |\n",
    "| pct_age_18_29  | % Aged 18–29              | Percent of population aged 18–29 years                                     | Float   | ± MOE reported   | 0–100              | null / -9999           | Low                    |\n",
    "| pct_fb         | % Foreign-Born            | Percent of population born outside the United States                       | Float   | ± MOE reported   | 0–100              | null / -9999           | Low                    |\n",
    "| sex_ratio      | Male-to-Female Ratio      | Ratio of male to female residents                                          | Float   | ± MOE reported   | ~0.8–1.2           | null / -9999           | Low                    |\n",
    "| ln_pop_den     | Log(Population Density)   | Natural log of population density (persons per square mile)                | Float   | Derived          | Varies             | null                   | Low                    |\n",
    "| pct_bach       | % Bachelor's Degree       | Percent of adults (25+) with a bachelor’s degree or higher                 | Float   | ± MOE reported   | 0–100              | null / -9999           | Low                    |\n",
    "| pct_uninsured  | % Uninsured               | Percent of population without health insurance coverage                    | Float   | ± MOE reported   | 0–100              | null / -9999           | Low                    |"
   ]
  },
  {
   "cell_type": "markdown",
   "metadata": {},
   "source": [
    "### Prior observations  \n",
    "\n",
    "There are no prior observations related with this data"
   ]
  },
  {
   "cell_type": "markdown",
   "metadata": {},
   "source": [
    "### Bias and threats to validity\n",
    "\n",
    "The main source of bias in this analysis would come from the election data itself. It was obtained from an opensource repository that was compiled from various news outlets including: The Guardian, Fox News, The New York Times, Townhall.com, and Politico, to support academic research and analysis. \n"
   ]
  },
  {
   "cell_type": "markdown",
   "metadata": {},
   "source": [
    "### Data transformations\n",
    "\n",
    "Describe all data transformations planned to prepare data sources for analysis.\n",
    "This section should explain with the fullest detail possible how to transform data from the **raw** state at the time of acquisition or observation, to the pre-processed **derived** state ready for the main analysis.\n",
    "Including steps to check and mitigate sources of **bias** and **threats to validity**.\n",
    "The method may anticipate **contingencies**, e.g. tests for normality and alternative decisions to make based on the results of the test.\n",
    "More specifically, all the **geographic** and **variable** transformations required to prepare input data as described in the data and variables section above to match the study's spatio-temporal characteristics as described in the study metadata and study design sections.\n",
    "Visual workflow diagrams may help communicate the methodology in this section.\n",
    "\n",
    "Examples of **geographic** transformations include coordinate system transformations, aggregation, disaggregation, spatial interpolation, distance calculations, zonal statistics, etc.\n",
    "\n",
    "Examples of **variable** transformations include standardization, normalization, constructed variables, imputation, classification, etc.\n",
    "\n",
    "Be sure to include any steps planned to **exclude** observations with *missing* or *outlier* data, to **group** observations by *attribute* or *geographic* criteria, or to **impute** missing data or apply spatial or temporal **interpolation**.\n",
    "\n"
   ]
  },
  {
   "cell_type": "markdown",
   "metadata": {
    "tags": []
   },
   "source": [
    "### Analysis\n",
    "\n",
    "Describe the methods of analysis that will directly test the hypotheses or provide results to answer the research questions.\n",
    "This section should explicitly define any spatial / statistical *models* and their *parameters*, including *grouping* criteria, *weighting* criteria, and *significance thresholds*.\n",
    "Also explain any follow-up analyses or validations.\n",
    "\n"
   ]
  },
  {
   "cell_type": "code",
   "execution_count": 5,
   "metadata": {},
   "outputs": [],
   "source": [
    "import numpy as np\n",
    "import pandas as pd\n",
    "import geopandas as gpd\n",
    "import libpysal as ps \n",
    "from tqdm import tqdm\n",
    "from mgwr.gwr import GWR, MGWR\n",
    "from mgwr.sel_bw import Sel_BW\n",
    "import matplotlib as mpl\n",
    "import matplotlib.pyplot as plt\n",
    "# from utils import shift_colormap, truncate_colormap\n",
    "from svcviz.viz_gwr import viz_gwr, viz_gw, compare_conf, compare_two_surf, three_panel\n",
    "import warnings\n",
    "warnings.filterwarnings('ignore')"
   ]
  },
  {
   "cell_type": "markdown",
   "metadata": {},
   "source": [
    "#### Preprocessing"
   ]
  },
  {
   "cell_type": "markdown",
   "metadata": {},
   "source": [
    "- Load the datasets into pandas and geopandas dataframes \n",
    "    \n",
    "    - df  : Election dataset\n",
    "    - df2 : ACS dataset\n",
    "    - dfgp : ggpgam model output loaded to a pandas dataframe"
   ]
  },
  {
   "cell_type": "code",
   "execution_count": 6,
   "metadata": {},
   "outputs": [],
   "source": [
    "df = pd.read_csv(\"data/countypres_2000-2020.csv\")\n",
    "df2 = pd.read_csv(\"data/voting_2020.csv\")[[\"county_id\",\"pct_black\", \"total_pop\", \n",
    "                                                \"pct_hisp\", \"median_income\",\n",
    "                                               \"pct_65_over\", \"pct_age_18_29\", \n",
    "                                                \"pct_fb\", \"sex_ratio\", \"ln_pop_den\",\n",
    "                                               \"pct_bach\", \"pct_uninsured\", \"median_income\"]]\n",
    "\n",
    "dfgp  = pd.read_csv(\"data/ggp-us-dfii.csv\").drop('delete', axis=1)\n",
    "\n",
    "df3 = dfgp[['id', 'se0', 'b0', 'Intercept','sepct_black',\n",
    "       'bpct_black', 'sepct_hisp', 'bpct_hisp', 'sepct_65_over', 'bpct_65_over', 'sepct_age_18_29',\n",
    "       'bpct_age_18_29', 'sepct_fb', 'bpct_fb', 'sepct_uninsured',\n",
    "       'bpct_uninsured', 'sepct_bach', 'bpct_bach', 'seln_pop_den',\n",
    "       'bln_pop_den']]"
   ]
  },
  {
   "cell_type": "markdown",
   "metadata": {},
   "source": [
    "- Get 2020 U.S election data + democrat party and exclude D.C, Hawaii, and Alaska\n",
    "- create a geometry attribute from GeoJSON file \n",
    "- Set the CRS\n",
    "- visualize the counties in the U.S"
   ]
  },
  {
   "cell_type": "code",
   "execution_count": 7,
   "metadata": {},
   "outputs": [],
   "source": [
    "df = df[(df.year==2020) & (df.party=='DEMOCRAT') & (df.state!='DISTRICT OF COLUMBIA')] "
   ]
  },
  {
   "cell_type": "code",
   "execution_count": 8,
   "metadata": {},
   "outputs": [],
   "source": [
    "df = df[[\"state\", \"county_name\", \"county_fips\",\"party\", \"totalvotes\", \"mode\"]]"
   ]
  },
  {
   "cell_type": "code",
   "execution_count": 9,
   "metadata": {},
   "outputs": [
    {
     "data": {
      "text/html": [
       "<div>\n",
       "<style scoped>\n",
       "    .dataframe tbody tr th:only-of-type {\n",
       "        vertical-align: middle;\n",
       "    }\n",
       "\n",
       "    .dataframe tbody tr th {\n",
       "        vertical-align: top;\n",
       "    }\n",
       "\n",
       "    .dataframe thead th {\n",
       "        text-align: right;\n",
       "    }\n",
       "</style>\n",
       "<table border=\"1\" class=\"dataframe\">\n",
       "  <thead>\n",
       "    <tr style=\"text-align: right;\">\n",
       "      <th></th>\n",
       "      <th>id</th>\n",
       "      <th>se0</th>\n",
       "      <th>b0</th>\n",
       "      <th>Intercept</th>\n",
       "      <th>sepct_black</th>\n",
       "      <th>bpct_black</th>\n",
       "      <th>sepct_hisp</th>\n",
       "      <th>bpct_hisp</th>\n",
       "      <th>sepct_65_over</th>\n",
       "      <th>bpct_65_over</th>\n",
       "      <th>sepct_age_18_29</th>\n",
       "      <th>bpct_age_18_29</th>\n",
       "      <th>sepct_fb</th>\n",
       "      <th>bpct_fb</th>\n",
       "      <th>sepct_uninsured</th>\n",
       "      <th>bpct_uninsured</th>\n",
       "      <th>sepct_bach</th>\n",
       "      <th>bpct_bach</th>\n",
       "      <th>seln_pop_den</th>\n",
       "      <th>bln_pop_den</th>\n",
       "    </tr>\n",
       "  </thead>\n",
       "  <tbody>\n",
       "    <tr>\n",
       "      <th>0</th>\n",
       "      <td>1001</td>\n",
       "      <td>0.109232</td>\n",
       "      <td>-0.161032</td>\n",
       "      <td>1</td>\n",
       "      <td>0.036349</td>\n",
       "      <td>0.046597</td>\n",
       "      <td>0.283512</td>\n",
       "      <td>-0.126066</td>\n",
       "      <td>0.070951</td>\n",
       "      <td>0.043623</td>\n",
       "      <td>0.052382</td>\n",
       "      <td>-0.056577</td>\n",
       "      <td>0.155654</td>\n",
       "      <td>0.188183</td>\n",
       "      <td>0.026215</td>\n",
       "      <td>0.031122</td>\n",
       "      <td>0.064936</td>\n",
       "      <td>0.099549</td>\n",
       "      <td>0.097896</td>\n",
       "      <td>0.278338</td>\n",
       "    </tr>\n",
       "    <tr>\n",
       "      <th>1</th>\n",
       "      <td>1003</td>\n",
       "      <td>0.136123</td>\n",
       "      <td>-0.102484</td>\n",
       "      <td>1</td>\n",
       "      <td>0.053384</td>\n",
       "      <td>0.012584</td>\n",
       "      <td>0.344177</td>\n",
       "      <td>-0.064931</td>\n",
       "      <td>0.088085</td>\n",
       "      <td>0.087716</td>\n",
       "      <td>0.080351</td>\n",
       "      <td>-0.025321</td>\n",
       "      <td>0.201540</td>\n",
       "      <td>0.212545</td>\n",
       "      <td>0.030258</td>\n",
       "      <td>0.040352</td>\n",
       "      <td>0.083381</td>\n",
       "      <td>0.062685</td>\n",
       "      <td>0.113054</td>\n",
       "      <td>0.310424</td>\n",
       "    </tr>\n",
       "  </tbody>\n",
       "</table>\n",
       "</div>"
      ],
      "text/plain": [
       "     id       se0        b0  Intercept  sepct_black  bpct_black  sepct_hisp  \\\n",
       "0  1001  0.109232 -0.161032          1     0.036349    0.046597    0.283512   \n",
       "1  1003  0.136123 -0.102484          1     0.053384    0.012584    0.344177   \n",
       "\n",
       "   bpct_hisp  sepct_65_over  bpct_65_over  sepct_age_18_29  bpct_age_18_29  \\\n",
       "0  -0.126066       0.070951      0.043623         0.052382       -0.056577   \n",
       "1  -0.064931       0.088085      0.087716         0.080351       -0.025321   \n",
       "\n",
       "   sepct_fb   bpct_fb  sepct_uninsured  bpct_uninsured  sepct_bach  bpct_bach  \\\n",
       "0  0.155654  0.188183         0.026215        0.031122    0.064936   0.099549   \n",
       "1  0.201540  0.212545         0.030258        0.040352    0.083381   0.062685   \n",
       "\n",
       "   seln_pop_den  bln_pop_den  \n",
       "0      0.097896     0.278338  \n",
       "1      0.113054     0.310424  "
      ]
     },
     "execution_count": 9,
     "metadata": {},
     "output_type": "execute_result"
    }
   ],
   "source": [
    "df3.head(2)"
   ]
  },
  {
   "cell_type": "code",
   "execution_count": 10,
   "metadata": {},
   "outputs": [],
   "source": [
    "newdf = df.merge(df2, left_on='county_fips', right_on='county_id', how='right')"
   ]
  },
  {
   "cell_type": "code",
   "execution_count": 11,
   "metadata": {},
   "outputs": [],
   "source": [
    "newdf = newdf[(newdf['mode']=='TOTAL') | (newdf['mode']=='ELECTION DAY')]"
   ]
  },
  {
   "cell_type": "code",
   "execution_count": 12,
   "metadata": {},
   "outputs": [],
   "source": [
    "counties = gpd.read_file('https://cdn.jsdelivr.net/npm/us-atlas@3/counties-10m.json')\\\n",
    "                                                                            .sort_values(by='id').reset_index(drop=True)\n",
    "\n",
    "empty = counties['geometry'].is_empty\n",
    "counties_non_empty = counties[~empty].copy()\n",
    "\n",
    "counties_non_empty['lon'] = counties_non_empty['geometry'].centroid.x\n",
    "counties_non_empty['lat'] = counties_non_empty['geometry'].centroid.y\n",
    "counties_non_empty['id'] = counties_non_empty['id'].astype('int')"
   ]
  },
  {
   "cell_type": "code",
   "execution_count": 13,
   "metadata": {},
   "outputs": [],
   "source": [
    "data = counties_non_empty.merge(newdf, left_on='id', right_on='county_fips')"
   ]
  },
  {
   "cell_type": "code",
   "execution_count": 14,
   "metadata": {},
   "outputs": [
    {
     "data": {
      "text/plain": [
       "<Geographic 2D CRS: EPSG:4326>\n",
       "Name: WGS 84\n",
       "Axis Info [ellipsoidal]:\n",
       "- Lat[north]: Geodetic latitude (degree)\n",
       "- Lon[east]: Geodetic longitude (degree)\n",
       "Area of Use:\n",
       "- name: World.\n",
       "- bounds: (-180.0, -90.0, 180.0, 90.0)\n",
       "Datum: World Geodetic System 1984 ensemble\n",
       "- Ellipsoid: WGS 84\n",
       "- Prime Meridian: Greenwich"
      ]
     },
     "execution_count": 14,
     "metadata": {},
     "output_type": "execute_result"
    }
   ],
   "source": [
    "counties = counties.set_crs(epsg=4326)\n",
    "counties.crs"
   ]
  },
  {
   "cell_type": "code",
   "execution_count": 15,
   "metadata": {},
   "outputs": [],
   "source": [
    "data = data[data.state!='HAWAII']"
   ]
  },
  {
   "cell_type": "code",
   "execution_count": 16,
   "metadata": {},
   "outputs": [],
   "source": [
    "data.set_crs(epsg=4269, allow_override=True, inplace=True)\n",
    "data = data.to_crs(epsg=4269)"
   ]
  },
  {
   "cell_type": "code",
   "execution_count": 17,
   "metadata": {},
   "outputs": [],
   "source": [
    "data['geometry'] = data.buffer(0)"
   ]
  },
  {
   "cell_type": "code",
   "execution_count": 18,
   "metadata": {},
   "outputs": [
    {
     "data": {
      "image/png": "[encoded data removed]",
      "text/plain": [
       "<Figure size 800x1000 with 1 Axes>"
      ]
     },
     "metadata": {},
     "output_type": "display_data"
    }
   ],
   "source": [
    "data.boundary.plot(figsize=(8,10), linewidth=0.3);"
   ]
  },
  {
   "cell_type": "code",
   "execution_count": 19,
   "metadata": {},
   "outputs": [],
   "source": [
    "g_y = data['totalvotes'].values.reshape((-1,1))\n",
    "g_X = data[[\n",
    "    'pct_black','pct_hisp','pct_65_over','pct_age_18_29',\n",
    "            'pct_fb', 'pct_uninsured', 'pct_bach', 'ln_pop_den'\n",
    "            ]].values\n",
    "\n",
    "g_y = (g_y - g_y.mean(axis=0)) / g_y.std(axis=0)\n",
    "g_X = (g_X - g_X.mean(axis=0)) / g_X.std(axis=0)\n",
    "\n",
    "u = data[\"lon\"]\n",
    "v = data[\"lat\"]\n",
    "\n",
    "g_coords = list(zip(u,v))"
   ]
  },
  {
   "cell_type": "markdown",
   "metadata": {},
   "source": [
    "##### Calibrating a GWR model"
   ]
  },
  {
   "cell_type": "code",
   "execution_count": 20,
   "metadata": {},
   "outputs": [
    {
     "name": "stdout",
     "output_type": "stream",
     "text": [
      "Bandwidth is: 143.0\n",
      "=======================\n",
      "Resid SS is: 904.7533722425308\n",
      "=======================\n",
      "ENP is: 451.3961065192949\n",
      "=======================\n",
      "AICc is: 6058.043970785431\n"
     ]
    }
   ],
   "source": [
    "gwr_selector = Sel_BW(g_coords, g_y, g_X)\n",
    "gwr_bw = gwr_selector.search()\n",
    "gwr_results = GWR(g_coords, g_y, g_X, gwr_bw).fit()\n",
    "print('Bandwidth is:', gwr_bw)\n",
    "print('=======================')\n",
    "print('Resid SS is:', gwr_results.resid_ss)\n",
    "print('=======================')\n",
    "print('ENP is:', gwr_results.ENP)\n",
    "print('=======================')\n",
    "print('AICc is:', gwr_results.aicc)\n",
    "\n",
    "# gwr_results.summary()"
   ]
  },
  {
   "cell_type": "markdown",
   "metadata": {},
   "source": [
    "##### Calibrating a MGWR model"
   ]
  },
  {
   "cell_type": "code",
   "execution_count": 21,
   "metadata": {},
   "outputs": [
    {
     "data": {
      "application/vnd.jupyter.widget-view+json": {
       "model_id": "67d1e146643f43909d8b386f6d0690fc",
       "version_major": 2,
       "version_minor": 0
      },
      "text/plain": [
       "Backfitting:   0%|          | 0/200 [00:00<?, ?it/s]"
      ]
     },
     "metadata": {},
     "output_type": "display_data"
    },
    {
     "data": {
      "application/vnd.jupyter.widget-view+json": {
       "model_id": "1c7c5867a5ae4f09964caffb82b25279",
       "version_major": 2,
       "version_minor": 0
      },
      "text/plain": [
       "Inference:   0%|          | 0/1 [00:00<?, ?it/s]"
      ]
     },
     "metadata": {},
     "output_type": "display_data"
    }
   ],
   "source": [
    "mgwr_selector = Sel_BW(g_coords, g_y, g_X, multi=True)\n",
    "mgwr_bw = mgwr_selector.search()\n",
    "mgwr_results = MGWR(g_coords, g_y, g_X, mgwr_selector).fit()"
   ]
  },
  {
   "cell_type": "code",
   "execution_count": 22,
   "metadata": {},
   "outputs": [
    {
     "name": "stdout",
     "output_type": "stream",
     "text": [
      "===========================================================================\n",
      "Model type                                                         Gaussian\n",
      "Number of observations:                                                3134\n",
      "Number of covariates:                                                     9\n",
      "\n",
      "Global Regression Results\n",
      "---------------------------------------------------------------------------\n",
      "Residual sum of squares:                                           1987.377\n",
      "Log-likelihood:                                                   -3733.194\n",
      "AIC:                                                               7484.387\n",
      "AICc:                                                              7486.458\n",
      "BIC:                                                             -23169.077\n",
      "R2:                                                                   0.366\n",
      "Adj. R2:                                                              0.364\n",
      "\n",
      "Variable                              Est.         SE  t(Est/SE)    p-value\n",
      "------------------------------- ---------- ---------- ---------- ----------\n",
      "X0                                  -0.000      0.014     -0.000      1.000\n",
      "X1                                   0.035      0.016      2.212      0.027\n",
      "X2                                  -0.057      0.023     -2.495      0.013\n",
      "X3                                   0.009      0.019      0.466      0.641\n",
      "X4                                  -0.095      0.019     -5.129      0.000\n",
      "X5                                   0.413      0.024     17.034      0.000\n",
      "X6                                  -0.041      0.017     -2.369      0.018\n",
      "X7                                   0.121      0.019      6.500      0.000\n",
      "X8                                   0.297      0.019     15.613      0.000\n",
      "\n",
      "Multi-Scale Geographically Weighted Regression (MGWR) Results\n",
      "---------------------------------------------------------------------------\n",
      "Spatial kernel:                                           Adaptive bisquare\n",
      "Criterion for optimal bandwidth:                                       AICc\n",
      "Score of Change (SOC) type:                                     Smoothing f\n",
      "Termination criterion for MGWR:                                       1e-05\n",
      "\n",
      "MGWR bandwidths\n",
      "---------------------------------------------------------------------------\n",
      "Variable             Bandwidth      ENP_j   Adj t-val(95%)   Adj alpha(95%)\n",
      "X0                    1154.000      2.407            2.313            0.021\n",
      "X1                      69.000     88.577            3.452            0.001\n",
      "X2                    2119.000      1.588            2.152            0.031\n",
      "X3                    1374.000      4.567            2.546            0.011\n",
      "X4                    3132.000      1.287            2.067            0.039\n",
      "X5                      44.000    155.990            3.602            0.000\n",
      "X6                    3132.000      1.165            2.025            0.043\n",
      "X7                     141.000     43.427            3.254            0.001\n",
      "X8                      44.000    164.437            3.616            0.000\n",
      "\n",
      "Diagnostic information\n",
      "---------------------------------------------------------------------------\n",
      "Residual sum of squares:                                            752.414\n",
      "Effective number of parameters (trace(S)):                          463.447\n",
      "Degree of freedom (n - trace(S)):                                  2670.553\n",
      "Sigma estimate:                                                       0.531\n",
      "Log-likelihood:                                                   -2211.191\n",
      "AIC:                                                               5351.275\n",
      "AICc:                                                              5513.292\n",
      "BIC:                                                               8161.208\n",
      "R2                                                                    0.760\n",
      "Adjusted R2                                                           0.718\n",
      "\n",
      "Summary Statistics For MGWR Parameter Estimates\n",
      "---------------------------------------------------------------------------\n",
      "Variable                   Mean        STD        Min     Median        Max\n",
      "-------------------- ---------- ---------- ---------- ---------- ----------\n",
      "X0                       -0.197      0.057     -0.262     -0.218     -0.045\n",
      "X1                        0.092      0.324     -1.158      0.033      2.729\n",
      "X2                       -0.172      0.102     -0.309     -0.185     -0.044\n",
      "X3                        0.025      0.036     -0.080      0.033      0.075\n",
      "X4                       -0.027      0.002     -0.031     -0.027     -0.023\n",
      "X5                        0.249      0.268     -0.203      0.163      2.259\n",
      "X6                       -0.006      0.001     -0.008     -0.006     -0.003\n",
      "X7                        0.016      0.102     -0.279      0.018      1.101\n",
      "X8                        0.384      0.301     -0.284      0.319      2.814\n",
      "===========================================================================\n",
      "\n"
     ]
    }
   ],
   "source": [
    "mgwr_results.summary()"
   ]
  },
  {
   "cell_type": "markdown",
   "metadata": {
    "tags": []
   },
   "source": [
    "# Demo"
   ]
  },
  {
   "cell_type": "markdown",
   "metadata": {},
   "source": [
    "### Utility 1 - `viz_gwr()`"
   ]
  },
  {
   "cell_type": "markdown",
   "metadata": {},
   "source": [
    "##### `viz_gwr(col_names, geometry, gwr_object, t_value=True, coef=['var_name])`\n",
    "\n",
    "\n",
    "\n",
    "      Parameters\n",
    "    ----------\n",
    "    col_names      : list of str\n",
    "                     Names of the covariates used in the model.\n",
    "    df_geo         : GeoSeries\n",
    "                     Geometry used for mapping.\n",
    "    gwr_object     : GWRResults object\n",
    "                     Output from a fitted GWR model.\n",
    "    use_tvalues    : bool, optional\n",
    "                     Whether to mask non-significant t-values. Default is True.\n",
    "    alpha          : float, optional\n",
    "                     Significance threshold. Default is 0.05.\n",
    "    coef_surfaces  : list of str, optional\n",
    "                     Specific variables to plot. If None, all coefficients are plotted.\n",
    "    cbar_label     : str, optional\n",
    "                     Colorbar label. Default is None.\n",
    "    cmap           : matplotlib colormap, optional\n",
    "                     Colormap for coefficients. Default is plt.cm.RdBu_r.\n"
   ]
  },
  {
   "cell_type": "markdown",
   "metadata": {},
   "source": [
    "- This utillity of the <i> \"svc-viz\"</i>\n",
    "tool takes as input a GWR/MGWR model object and generates coefficient surfaces incorporating best visualization practices "
   ]
  },
  {
   "cell_type": "markdown",
   "metadata": {},
   "source": [
    "- By default, the tool visualizes all coefficients. The user only needs to specify which coefficient surfaces they want to visualize by passing them as arguments. They can also turn the <i>t</i>-values on or off (by default, t-values are set at the 95% confidence interval but can be adjusted).\n"
   ]
  },
  {
   "cell_type": "markdown",
   "metadata": {},
   "source": [
    "- Other kinds of SVC models or Geographically weighted statistic can also be visualized using the `viz_gw` method as shown in utility 2"
   ]
  },
  {
   "cell_type": "markdown",
   "metadata": {},
   "source": [
    "- Below is an example code with a mgwr model object "
   ]
  },
  {
   "cell_type": "markdown",
   "metadata": {},
   "source": [
    "##### User specifying the particular coefficient surface they want to visualize (Figure 3 - CaGIS Article)"
   ]
  },
  {
   "cell_type": "code",
   "execution_count": 23,
   "metadata": {},
   "outputs": [
    {
     "ename": "TypeError",
     "evalue": "viz_gwr() got an unexpected keyword argument 'cmap'",
     "output_type": "error",
     "traceback": [
      "\u001b[0;31m---------------------------------------------------------------------------\u001b[0m",
      "\u001b[0;31mTypeError\u001b[0m                                 Traceback (most recent call last)",
      "Cell \u001b[0;32mIn[23], line 4\u001b[0m\n\u001b[1;32m      1\u001b[0m col_names \u001b[38;5;241m=\u001b[39m [\u001b[38;5;124m'\u001b[39m\u001b[38;5;124mpct_black\u001b[39m\u001b[38;5;124m'\u001b[39m, \u001b[38;5;124m'\u001b[39m\u001b[38;5;124mpct_hisp\u001b[39m\u001b[38;5;124m'\u001b[39m, \u001b[38;5;124m'\u001b[39m\u001b[38;5;124mpct_65_over\u001b[39m\u001b[38;5;124m'\u001b[39m, \u001b[38;5;124m'\u001b[39m\u001b[38;5;124mpct_age_18_29\u001b[39m\u001b[38;5;124m'\u001b[39m, \u001b[38;5;124m'\u001b[39m\u001b[38;5;124mpct_fb\u001b[39m\u001b[38;5;124m'\u001b[39m, \n\u001b[1;32m      2\u001b[0m     \u001b[38;5;124m'\u001b[39m\u001b[38;5;124mpct_uninsured\u001b[39m\u001b[38;5;124m'\u001b[39m, \u001b[38;5;124m'\u001b[39m\u001b[38;5;124mpct_bach\u001b[39m\u001b[38;5;124m'\u001b[39m, \u001b[38;5;124m'\u001b[39m\u001b[38;5;124mln_pop_den\u001b[39m\u001b[38;5;124m'\u001b[39m]\n\u001b[0;32m----> 4\u001b[0m \u001b[43mviz_gwr\u001b[49m\u001b[43m(\u001b[49m\n\u001b[1;32m      5\u001b[0m \u001b[43m        \u001b[49m\u001b[43mcol_names\u001b[49m\u001b[43m,\u001b[49m\u001b[43m \u001b[49m\n\u001b[1;32m      6\u001b[0m \u001b[43m        \u001b[49m\u001b[43mdata\u001b[49m\u001b[43m[\u001b[49m\u001b[38;5;124;43m'\u001b[39;49m\u001b[38;5;124;43mgeometry\u001b[39;49m\u001b[38;5;124;43m'\u001b[39;49m\u001b[43m]\u001b[49m\u001b[43m,\u001b[49m\u001b[43m \u001b[49m\n\u001b[1;32m      7\u001b[0m \u001b[43m        \u001b[49m\u001b[43mmgwr_results\u001b[49m\u001b[43m,\u001b[49m\u001b[43m \u001b[49m\n\u001b[1;32m      8\u001b[0m \u001b[43m        \u001b[49m\u001b[43muse_tvalues\u001b[49m\u001b[38;5;241;43m=\u001b[39;49m\u001b[38;5;28;43;01mTrue\u001b[39;49;00m\u001b[43m,\u001b[49m\u001b[43m \u001b[49m\n\u001b[1;32m      9\u001b[0m \u001b[43m        \u001b[49m\u001b[43malpha\u001b[49m\u001b[38;5;241;43m=\u001b[39;49m\u001b[38;5;241;43m0.5\u001b[39;49m\u001b[43m,\u001b[49m\u001b[43m \u001b[49m\n\u001b[1;32m     10\u001b[0m \u001b[43m        \u001b[49m\u001b[43mcoef_surfaces\u001b[49m\u001b[38;5;241;43m=\u001b[39;49m\u001b[43m[\u001b[49m\u001b[38;5;124;43m'\u001b[39;49m\u001b[38;5;124;43mpct_black\u001b[39;49m\u001b[38;5;124;43m'\u001b[39;49m\u001b[43m]\u001b[49m\u001b[43m,\u001b[49m\u001b[43m \u001b[49m\n\u001b[1;32m     11\u001b[0m \u001b[43m        \u001b[49m\u001b[43mcmap\u001b[49m\u001b[38;5;241;43m=\u001b[39;49m\u001b[43mplt\u001b[49m\u001b[38;5;241;43m.\u001b[39;49m\u001b[43mcm\u001b[49m\u001b[38;5;241;43m.\u001b[39;49m\u001b[43mRdBu\u001b[49m\n\u001b[1;32m     12\u001b[0m \u001b[43m)\u001b[49m\n",
      "\u001b[0;31mTypeError\u001b[0m: viz_gwr() got an unexpected keyword argument 'cmap'"
     ]
    }
   ],
   "source": [
    "col_names = ['pct_black', 'pct_hisp', 'pct_65_over', 'pct_age_18_29', 'pct_fb', \n",
    "    'pct_uninsured', 'pct_bach', 'ln_pop_den']\n",
    "\n",
    "viz_gwr(\n",
    "        col_names, \n",
    "        data['geometry'], \n",
    "        mgwr_results, \n",
    "        use_tvalues=True, \n",
    "        alpha=0.5, \n",
    "        coef_surfaces=['pct_black'], \n",
    "        cmap=plt.cm.RdBu\n",
    ")"
   ]
  },
  {
   "cell_type": "markdown",
   "metadata": {},
   "source": [
    "##### Alternative scenario if Figure 3 - CaGIS ArticleUser decides to see all coefficient surfaces by passing `None` in the `coef_surfaces` argument (Figure 4 - CaGIS Article)"
   ]
  },
  {
   "cell_type": "code",
   "execution_count": null,
   "metadata": {},
   "outputs": [],
   "source": [
    "viz_gwr(\n",
    "        col_names, \n",
    "        data['geometry'], \n",
    "        mgwr_results, \n",
    "        use_tvalues=True, \n",
    "        alpha=0.5, \n",
    "        coef_surfaces=None,\n",
    "        cmap=plt.cm.RdBu\n",
    ")"
   ]
  },
  {
   "cell_type": "markdown",
   "metadata": {},
   "source": [
    "  "
   ]
  },
  {
   "cell_type": "markdown",
   "metadata": {},
   "source": [
    "  "
   ]
  },
  {
   "cell_type": "markdown",
   "metadata": {},
   "source": [
    "### Utility 2 - `viz_gw()`\n"
   ]
  },
  {
   "cell_type": "markdown",
   "metadata": {},
   "source": [
    "##### `viz_gw(geometry, betas, std_errs, coef_surfaces)`\n",
    "\n",
    "\n",
    "    Parameters\n",
    "    ----------\n",
    "    df_geo        : GeoSeries\n",
    "                   Geometry of the study area.\n",
    "    betas         : DataFrame\n",
    "                   Beta coefficient estimates.\n",
    "    std_errs      : DataFrame\n",
    "                   Corresponding standard errors.\n",
    "    use_tvalues   : bool, optional\n",
    "                   Whether to overlay t-value significance. Default is True.\n",
    "    coef_surfaces : list of str, optional\n",
    "                   Variables to visualize. If None, visualize all.\n",
    "    alpha         : float, optional\n",
    "                   Significance level. Default is 0.05.\n",
    "    cbar_label    : str, optional\n",
    "                   Label for the colorbar. Default is None.\n",
    "    cmap          : matplotlib colormap, optional\n",
    "                   Colormap for coefficient surfaces. Default is plt.cm.RdBu_r.\n"
   ]
  },
  {
   "cell_type": "markdown",
   "metadata": {},
   "source": [
    "- The svc-viz tool is not only restricted to GWR/MGWR models but can also be extended to any other SVC model or Geographically Weighted statistic using the `viz_gw` method"
   ]
  },
  {
   "cell_type": "markdown",
   "metadata": {},
   "source": [
    "- It takes in as argument the original dataframe, the dataframe of the model estimates and their standard errors, and the level of statistical significance for the tvalues. By default, it is set to 0.05"
   ]
  },
  {
   "cell_type": "markdown",
   "metadata": {},
   "source": [
    "- Using these arguments it generates visualization of all the model coefficients like in utility 1"
   ]
  },
  {
   "cell_type": "markdown",
   "metadata": {},
   "source": [
    "- Below is an example code for the visualization of a GAM model calibrated with gaussian process splines. The user just needs to pass in to the function the required dataframes"
   ]
  },
  {
   "cell_type": "code",
   "execution_count": null,
   "metadata": {},
   "outputs": [],
   "source": [
    "betas = [col for col in df3.columns if col.startswith('b')]\n",
    "std_e = [col for col in df3.columns if col.startswith('se')]\n",
    "\n",
    "viz_gw(\n",
    "        data['geometry'], \n",
    "        df3[betas], \n",
    "        df3[std_e], \n",
    "        alpha=0.05,\n",
    "        use_tvalues=True,\n",
    "        coef_surfaces=None,\n",
    "        cmap=plt.cm.RdBu\n",
    ")"
   ]
  },
  {
   "cell_type": "markdown",
   "metadata": {},
   "source": [
    "##### Similar to utility 1,  the user also has the option to specifies what surface they want to visualize"
   ]
  },
  {
   "cell_type": "code",
   "execution_count": null,
   "metadata": {},
   "outputs": [],
   "source": [
    "viz_gw(\n",
    "        data['geometry'], \n",
    "        df3[betas], \n",
    "        df3[std_e], \n",
    "        alpha=0.05,\n",
    "        use_tvalues=True,\n",
    "        coef_surfaces=['beta_bpct_hisp'],\n",
    "        cmap=plt.cm.RdBu\n",
    ")"
   ]
  },
  {
   "cell_type": "markdown",
   "metadata": {},
   "source": [
    "  "
   ]
  },
  {
   "cell_type": "markdown",
   "metadata": {},
   "source": [
    "### Utility 3 - `compare_two_surf()`"
   ]
  },
  {
   "cell_type": "markdown",
   "metadata": {},
   "source": [
    "##### `compare_two_surf(geometry, est1, stderr1, est2, stderr2, var1, var2)`\n",
    "\n",
    "  \n",
    "  \n",
    "    Parameters\n",
    "    ----------\n",
    "    df_geo      : GeoSeries\n",
    "                 Geometry column of the dataset.\n",
    "    est1        : DataFrame\n",
    "                 DataFrame containing beta coefficients of the first model.\n",
    "    stderr1     : DataFrame\n",
    "                 DataFrame containing standard errors of the first model.\n",
    "    est2        : DataFrame\n",
    "                 DataFrame containing beta coefficients of the second model.\n",
    "    stderr2     : DataFrame\n",
    "                 DataFrame containing standard errors of the second model.\n",
    "    var1        : str\n",
    "                 Variable name of interest in the first model (e.g., 'beta_income').\n",
    "    var2        : str\n",
    "                 Variable name of interest in the second model (e.g., 'beta_income').\n",
    "    use_tvalues : bool, optional\n",
    "                 Whether to overlay non-significant areas based on t-values. Default is False.\n",
    "    alpha       : float, optional\n",
    "                 Significance level for masking non-significant t-values. Default is 0.05.\n",
    "    cbar_label  : str, optional\n",
    "                 Label for the shared colorbar. Default is None.\n",
    "    cmap        : matplotlib colormap, optional\n",
    "                 Colormap for surface visualization. Default is plt.cm.RdBu_r \n",
    "                 (red = positive, blue = negative).\n"
   ]
  },
  {
   "cell_type": "markdown",
   "metadata": {},
   "source": [
    "- The svc-viz tool can also be used to visualize the coefficients of two SVC models to facilitate the analysis of SVC model replicability across the study area"
   ]
  },
  {
   "cell_type": "markdown",
   "metadata": {},
   "source": [
    "- The `compare_two_surf()` method takes as input results from two similar models for the same study area and then highlights where the confidence intervals for two coefficient estimates of the same variable at the same location do not overlap between the two models"
   ]
  },
  {
   "cell_type": "markdown",
   "metadata": {},
   "source": [
    "- below is an example using a MGWR model and a GAM with Gaussian process splines calibrated on the same dataset. "
   ]
  },
  {
   "cell_type": "code",
   "execution_count": null,
   "metadata": {},
   "outputs": [],
   "source": [
    "col_names1 = ['pct_black', 'pct_hisp', 'pct_65_over', 'pct_age_18_29', 'pct_fb', \n",
    "    'pct_uninsured', 'pct_bach', 'ln_pop_den']\n",
    "\n",
    "col_names = ['intercept']+col_names1\n",
    "\n",
    "mgwr_est = pd.DataFrame(mgwr_results.params, columns=col_names)\n",
    "mgwr_std = pd.DataFrame(mgwr_results.bse, columns=col_names)\n",
    "\n",
    "\n",
    "betas = [col for col in df3.columns if col.startswith('b')]\n",
    "std_e = [col for col in df3.columns if col.startswith('se')]\n",
    "\n",
    "\n",
    "compare_two_surf(data['geometry'], \n",
    "                 mgwr_est, \n",
    "                 mgwr_std, \n",
    "                 df3[betas],\n",
    "                 df3[std_e], \n",
    "                 'beta_pct_bach', \n",
    "                 'beta_bpct_bach',\n",
    "                  use_tvalues=False,\n",
    "                  cmap=plt.cm.RdBu\n",
    ")"
   ]
  },
  {
   "cell_type": "code",
   "execution_count": null,
   "metadata": {},
   "outputs": [],
   "source": [
    "compare_two_surf(data['geometry'], \n",
    "                 mgwr_est, \n",
    "                 mgwr_std, \n",
    "                 df3[betas],\n",
    "                 df3[std_e], \n",
    "                 'beta_pct_bach', \n",
    "                 'beta_bpct_bach',\n",
    "                  use_tvalues=True,\n",
    "                  cmap=plt.cm.RdBu\n",
    ")"
   ]
  },
  {
   "cell_type": "markdown",
   "metadata": {},
   "source": [
    "<br />"
   ]
  },
  {
   "cell_type": "markdown",
   "metadata": {},
   "source": [
    "### Utility 4 `three_panel()`"
   ]
  },
  {
   "cell_type": "markdown",
   "metadata": {},
   "source": [
    "##### three_panel(df, col_names, (m)gwr_object, coef_surface, gwr_selector, aicc)    \n",
    "    \n",
    "    Parameters\n",
    "    ----------\n",
    "    df            : GeoDataFrame\n",
    "                   The original dataframe with geometry.\n",
    "    col_names     : list of str\n",
    "                   List of covariate names used in the GWR model.\n",
    "    gwr_object    : GWRResults object\n",
    "                   Fitted GWR model.\n",
    "    coef_surface : list of str\n",
    "                   List containing a single covariate name for visualization.\n",
    "    gwr_selector  : GWRSelector object\n",
    "                   Bandwidth selector object used in GWR.\n",
    "    aicc          : list or array\n",
    "                   AICc values for bandwidth tuning.\n",
    "    cmap          : matplotlib colormap, optional\n",
    "                   Colormap used for plotting. Default is plt.cm.RdBu_r \n",
    "                   (red=positive, blue=negative).\n"
   ]
  },
  {
   "cell_type": "markdown",
   "metadata": {},
   "source": [
    "- The tool also introduces a novel three-panel visualization, which is essentially a multiview visualization that displays different yet related information about a single variable. It includes the bandwidth and its confidence intervals, a caterpillar plot visualizing the confidence intervals, and finally, the coefficient surface along with its associated uncertainty.\n"
   ]
  },
  {
   "cell_type": "code",
   "execution_count": null,
   "metadata": {},
   "outputs": [],
   "source": []
  },
  {
   "cell_type": "code",
   "execution_count": null,
   "metadata": {},
   "outputs": [],
   "source": [
    "fits = []\n",
    "# The tqdm function is called with the iterable that we are looping over, in this case, range(25, len(data))\n",
    "for i in tqdm(range(100, len(data), 100), desc='Fitting models', unit='model'):\n",
    "    fits.append(GWR(g_coords, g_y, g_X, i).fit().aicc)"
   ]
  },
  {
   "cell_type": "code",
   "execution_count": null,
   "metadata": {},
   "outputs": [],
   "source": [
    "three_panel(data, col_names1, gwr_results, \n",
    "         coef_surfaces=['intercept'], gwr_selector=gwr_selector, aicc=fits, cmap=plt.cm.RdBu)"
   ]
  },
  {
   "cell_type": "markdown",
   "metadata": {},
   "source": [
    "### Utility 5 - `compare_conf`\n",
    "\n",
    "\n",
    "        Parameters\n",
    "        ----------\n",
    "        df_geo      : GeoSeries\n",
    "                     Geometry column for spatial plotting.\n",
    "        est1        : DataFrame\n",
    "                     Beta coefficients from the first model. Columns must be named by covariate.\n",
    "        stderr1     : DataFrame\n",
    "                     Standard errors corresponding to `est1`.\n",
    "        est2        : DataFrame\n",
    "                     Beta coefficients from the second model.\n",
    "        stderr2     : DataFrame\n",
    "                     Standard errors corresponding to `est2`.\n",
    "        var1        : str\n",
    "                     Covariate name in the first model to compare.\n",
    "        var2        : str\n",
    "                     Covariate name in the second model to compare.\n",
    "        z_value     : float, optional\n",
    "                     Z-score for constructing confidence intervals (default is 1.96 for 95% CI).\n",
    "        savefig     : str, optional\n",
    "                     If provided, saves the figure to the specified path. File format is inferred \n",
    "                     from the extension (e.g., 'plot.png', 'plot.pdf').\n",
    "\n",
    "         Notes\n",
    "        -----\n",
    "        Overlapping confidence intervals do not imply statistical equivalence —\n",
    "        further hypothesis testing would be required to formally assess equivalence (Schenker, 2001). However,\n",
    "        non-overlapping intervals provide strong evidence of differences, indicating spatial\n",
    "        regions where relationships do not replicate between the two models.\n",
    "\n",
    "        This utility is particularly valuable in assessing replicability, as it allows spatial modelers to visually pinpoint areas\n",
    "        where the models produce statistically distinct results. These areas serve as indicators of potential disparities or similarities \n",
    "        in the models' inferred results, offering deeper insights into model performance and consistency. This visualization strategy could \n",
    "        also be applied to compare results for different bandwidths or how relationships compare over time (Irekponor & Oshan, 2025)."
   ]
  },
  {
   "cell_type": "markdown",
   "metadata": {},
   "source": [
    "- Another novel visualization introduced in the svc-viz tool is a cartographic view that compares how confidence intervals do or do not overlap between two surfaces. "
   ]
  },
  {
   "cell_type": "markdown",
   "metadata": {},
   "source": [
    "- This method takes as input: the original dataframe, the dataframe of the model estimates and their standard errors, the name of the coefficient that the user wishes to visualize, and the level of statistical significance for the tvalues of both SVC models. By default, it is set to 0.05"
   ]
  },
  {
   "cell_type": "markdown",
   "metadata": {},
   "source": [
    "- Below is an example code that plots a map showing locations where the confidence intervals of two svc models overlap and where they do not. Here we use the GWR model and the GAM calibrated with Gaussian process splines on the same datasets"
   ]
  },
  {
   "cell_type": "code",
   "execution_count": null,
   "metadata": {},
   "outputs": [],
   "source": [
    "compare_conf(\n",
    "    data['geometry'],\n",
    "    mgwr_est, \n",
    "    mgwr_std, \n",
    "    df3[betas],\n",
    "    df3[std_e],\n",
    "    'pct_bach',\n",
    "    'bpct_bach',\n",
    ")"
   ]
  },
  {
   "cell_type": "markdown",
   "metadata": {},
   "source": [
    "### Reproducible code for Figure 1\n",
    "\n",
    "       - Reproducible visualization strategies for spatially varying coefficient (SVC) models: Incorporating uncertainty and assessing replicability"
   ]
  },
  {
   "cell_type": "code",
   "execution_count": null,
   "metadata": {},
   "outputs": [],
   "source": [
    "# Load Georgia dataset and generate plot of Georgia counties (figure 1)\n",
    "georgia_data = pd.read_csv(ps.examples.get_path('GData_utm.csv'))\n",
    "georgia_shp = gpd.read_file(ps.examples.get_path('G_utm.shp'))"
   ]
  },
  {
   "cell_type": "code",
   "execution_count": null,
   "metadata": {},
   "outputs": [],
   "source": [
    "#Prepare Georgia dataset inputs\n",
    "g_y = georgia_data['PctBach'].values.reshape((-1,1))\n",
    "g_X = georgia_data[['PctFB', 'PctBlack', 'PctRural']].values\n",
    "u = georgia_data['X']\n",
    "v = georgia_data['Y']\n",
    "g_coords = list(zip(u,v))\n",
    "\n",
    "g_X = (g_X - g_X.mean(axis=0)) / g_X.std(axis=0)\n",
    "\n",
    "g_y = g_y.reshape((-1,1))\n",
    "\n",
    "g_y = (g_y - g_y.mean(axis=0)) / g_y.std(axis=0)"
   ]
  },
  {
   "cell_type": "code",
   "execution_count": null,
   "metadata": {},
   "outputs": [],
   "source": [
    "#Calibrate MGWR model\n",
    "\n",
    "mgwr_selector = Sel_BW(g_coords, g_y, g_X, multi=True)\n",
    "mgwr_bw = mgwr_selector.search(multi_bw_min=[2])\n",
    "print(mgwr_bw)\n",
    "mgwr_results = MGWR(g_coords, g_y, g_X, mgwr_selector).fit()"
   ]
  },
  {
   "cell_type": "code",
   "execution_count": null,
   "metadata": {},
   "outputs": [],
   "source": [
    "#Prepare MGWR results for mapping\n",
    "\n",
    "#Add MGWR parameters to GeoDataframe\n",
    "georgia_shp['mgwr_intercept'] = mgwr_results.params[:,0]\n",
    "georgia_shp['mgwr_fb'] = mgwr_results.params[:,1]\n",
    "georgia_shp['mgwr_aa'] = mgwr_results.params[:,2]\n",
    "georgia_shp['mgwr_rural'] = mgwr_results.params[:,3]\n",
    "\n",
    "#Obtain t-vals filtered based on multiple testing correction\n",
    "mgwr_filtered_t = mgwr_results.filter_tvals()"
   ]
  },
  {
   "cell_type": "code",
   "execution_count": null,
   "metadata": {},
   "outputs": [],
   "source": [
    "fig, axes = plt.subplots(nrows=1, ncols=2, figsize=(20, 8))\n",
    "\n",
    "# Left plot: YlGn colormap\n",
    "ax0 = axes[0]\n",
    "ax0.set_title('MGWR Intercept Surface', fontsize=18)\n",
    "\n",
    "cmap1 = plt.cm.YlGn\n",
    "\n",
    "mgwr_min = georgia_shp['mgwr_intercept'].min()\n",
    "mgwr_max = georgia_shp['mgwr_intercept'].max()\n",
    "vmin, vmax = -0.55, 1  # Keep fixed for both maps\n",
    "\n",
    "# Adjust colormap\n",
    "cmap1 = shift_colormap(cmap1, start=0.0, midpoint=1 - vmax/(vmax + abs(vmin)), stop=1.)\n",
    "\n",
    "# Create scalar mappable for colorbar\n",
    "sm1 = plt.cm.ScalarMappable(cmap=cmap1, norm=plt.Normalize(vmin=vmin, vmax=vmax))\n",
    "\n",
    "# Plot MGWR parameters (Left)\n",
    "georgia_shp.plot('mgwr_intercept', cmap=sm1.cmap, ax=ax0, vmin=vmin, vmax=vmax, linewidth=0.4, edgecolor='black', alpha=0.65)\n",
    "\n",
    "ax0.get_xaxis().set_visible(False)\n",
    "ax0.get_yaxis().set_visible(False)\n",
    "\n",
    "# Right plot: Seismic colormap\n",
    "ax1 = axes[1]\n",
    "ax1.set_title('MGWR Intercept Surface', fontsize=18)\n",
    "\n",
    "cmap2 = plt.cm.seismic\n",
    "\n",
    "# Adjust colormap\n",
    "cmap2 = shift_colormap(cmap2, start=0.0, midpoint=1 - vmax/(vmax + abs(vmin)), stop=1.)\n",
    "\n",
    "# Create scalar mappable for colorbar\n",
    "sm2 = plt.cm.ScalarMappable(cmap=cmap2, norm=plt.Normalize(vmin=vmin, vmax=vmax))\n",
    "\n",
    "# Plot MGWR parameters (Right)\n",
    "georgia_shp.plot('mgwr_intercept', cmap=sm2.cmap, ax=ax1, vmin=vmin, vmax=vmax, linewidth=0.4, edgecolor='black', alpha=0.65)\n",
    "\n",
    "# If there are insignificant parameters, mask them in gray\n",
    "if (mgwr_filtered_t[:, 0] == 0).any():\n",
    "    georgia_shp[mgwr_filtered_t[:, 0] == 0].plot(color='lightgrey', ax=ax1, linewidth=0.4, edgecolor='black')\n",
    "\n",
    "ax1.get_xaxis().set_visible(False)\n",
    "ax1.get_yaxis().set_visible(False)\n",
    "\n",
    "# North arrow between right plot and its colorbar\n",
    "ax1.annotate('N',\n",
    "             xy=(0.85, 0.2), xytext=(0.85, 0.075),\n",
    "             arrowprops=dict(facecolor='black', width=5, headwidth=22),\n",
    "             ha='center', va='center', fontsize=20,\n",
    "             xycoords=fig.transFigure)\n",
    "\n",
    "\n",
    "# Adjust layout and colorbars\n",
    "fig.tight_layout()\n",
    "fig.subplots_adjust(right=0.9)\n",
    "\n",
    "# Add colorbars for both maps\n",
    "cax1 = fig.add_axes([0.45, 0.14, 0.01, 0.75])  # Colorbar for left panel\n",
    "cbar1 = fig.colorbar(sm1, cax=cax1)\n",
    "cbar1.ax.tick_params(labelsize=15)\n",
    "\n",
    "cax2 = fig.add_axes([0.87, 0.14, 0.01, 0.75])  # Colorbar for right panel\n",
    "cbar2 = fig.colorbar(sm2, cax=cax2)\n",
    "cbar2.ax.tick_params(labelsize=15)\n",
    "\n",
    "plt.show()\n"
   ]
  },
  {
   "cell_type": "markdown",
   "metadata": {},
   "source": [
    "## Results\n",
    "\n",
    "Describe how results are to be presented.\n",
    "\n"
   ]
  },
  {
   "cell_type": "markdown",
   "metadata": {},
   "source": [
    "## Discussion\n",
    "\n",
    "Describe how the results are to be interpreted *vis a vis* each hypothesis or research question.\n",
    "\n"
   ]
  },
  {
   "cell_type": "markdown",
   "metadata": {},
   "source": [
    "## Integrity Statement\n",
    "\n",
    "The authors of this preregistration state that they completed this preregistration to the best of their knowledge and that no other preregistration exists pertaining to the same hypotheses and research.\n",
    "\n",
    "\n"
   ]
  },
  {
   "cell_type": "markdown",
   "metadata": {},
   "source": [
    "# Acknowledgements\n",
    "\n",
    "\n",
    "This report is based upon the template for Reproducible and Replicable Research in Human-Environment and Geographical Sciences, DOI:[10.17605/OSF.IO/W29MQ](https://doi.org/10.17605/OSF.IO/W29MQ)"
   ]
  },
  {
   "cell_type": "markdown",
   "metadata": {},
   "source": [
    "## References"
   ]
  }
 ],
 "metadata": {
  "colab": {
   "provenance": []
  },
  "kernelspec": {
   "display_name": "Python 3 (ipykernel)",
   "language": "python",
   "name": "python3"
  },
  "language_info": {
   "codemirror_mode": {
    "name": "ipython",
    "version": 3
   },
   "file_extension": ".py",
   "mimetype": "text/x-python",
   "name": "python",
   "nbconvert_exporter": "python",
   "pygments_lexer": "ipython3",
   "version": "3.12.0"
  }
 },
 "nbformat": 4,
 "nbformat_minor": 4
}
